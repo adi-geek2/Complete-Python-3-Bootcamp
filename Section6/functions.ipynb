{
 "cells": [
  {
   "cell_type": "code",
   "execution_count": 1,
   "id": "694d7ee6-9412-40e9-9b11-46c76ec157c6",
   "metadata": {},
   "outputs": [],
   "source": [
    "myList = [1,2,3]"
   ]
  },
  {
   "cell_type": "code",
   "execution_count": 2,
   "id": "1a411c9d-6838-4105-a0c9-d441a5d1fc54",
   "metadata": {},
   "outputs": [],
   "source": [
    "myList.append(4)"
   ]
  },
  {
   "cell_type": "code",
   "execution_count": 3,
   "id": "c9a54a12-4ac7-4a3f-9380-a2580fca67e2",
   "metadata": {},
   "outputs": [
    {
     "data": {
      "text/plain": [
       "4"
      ]
     },
     "execution_count": 3,
     "metadata": {},
     "output_type": "execute_result"
    }
   ],
   "source": [
    "myList.pop()"
   ]
  },
  {
   "cell_type": "code",
   "execution_count": 4,
   "id": "18d2b40d-a387-41cf-bdc9-e431327c3f1b",
   "metadata": {},
   "outputs": [
    {
     "data": {
      "text/plain": [
       "[1, 2, 3]"
      ]
     },
     "execution_count": 4,
     "metadata": {},
     "output_type": "execute_result"
    }
   ],
   "source": [
    "myList"
   ]
  },
  {
   "cell_type": "code",
   "execution_count": null,
   "id": "70018af5-c23a-48bb-a046-a6bc723e0dc6",
   "metadata": {},
   "outputs": [],
   "source": [
    "myList.insert"
   ]
  },
  {
   "cell_type": "code",
   "execution_count": 6,
   "id": "49222f71-a1db-4783-acfd-d12c9964aca5",
   "metadata": {},
   "outputs": [],
   "source": [
    "def say_hello(name):\n",
    "    print(f'Hello {name}')"
   ]
  },
  {
   "cell_type": "code",
   "execution_count": 7,
   "id": "51604b98-ea8f-4e11-9562-1c3900ec5cbb",
   "metadata": {},
   "outputs": [
    {
     "data": {
      "text/plain": [
       "<function __main__.say_hello(name)>"
      ]
     },
     "execution_count": 7,
     "metadata": {},
     "output_type": "execute_result"
    }
   ],
   "source": [
    "say_hello"
   ]
  },
  {
   "cell_type": "code",
   "execution_count": 9,
   "id": "dc55bef3-12e1-466d-b1f1-ffbc7382e875",
   "metadata": {},
   "outputs": [
    {
     "name": "stdout",
     "output_type": "stream",
     "text": [
      "Hello Adi\n"
     ]
    }
   ],
   "source": [
    "say_hello(\"Adi\")"
   ]
  },
  {
   "cell_type": "code",
   "execution_count": 10,
   "id": "c3bc62a2-2373-4c60-a29d-632edf767449",
   "metadata": {},
   "outputs": [],
   "source": [
    "def say_hello(name = \"Default\"):\n",
    "    print(f'Hello {name}')"
   ]
  },
  {
   "cell_type": "code",
   "execution_count": 11,
   "id": "d0b82577-8c8d-4376-8255-599878803b7d",
   "metadata": {},
   "outputs": [
    {
     "name": "stdout",
     "output_type": "stream",
     "text": [
      "Hello Default\n"
     ]
    }
   ],
   "source": [
    "say_hello()"
   ]
  },
  {
   "cell_type": "code",
   "execution_count": 12,
   "id": "f12b804b-5b9d-4820-80e1-dd66c823191d",
   "metadata": {},
   "outputs": [],
   "source": [
    "def add_num(num1:int , num2:int):\n",
    "    return num1 + num2"
   ]
  },
  {
   "cell_type": "code",
   "execution_count": 15,
   "id": "d0e72aad-c45a-44f2-95a7-4d8d10b55f61",
   "metadata": {},
   "outputs": [
    {
     "data": {
      "text/plain": [
       "30"
      ]
     },
     "execution_count": 15,
     "metadata": {},
     "output_type": "execute_result"
    }
   ],
   "source": [
    "add_num(10,20)"
   ]
  },
  {
   "cell_type": "code",
   "execution_count": 19,
   "id": "6eac00a7-332e-4edf-aeac-166234c58bc2",
   "metadata": {},
   "outputs": [],
   "source": [
    "def check_even(num1):\n",
    "    result = num1 % 2 == 0\n",
    "    return result"
   ]
  },
  {
   "cell_type": "code",
   "execution_count": 20,
   "id": "2051134d-bde0-4a9f-b8c2-911be035a753",
   "metadata": {},
   "outputs": [
    {
     "data": {
      "text/plain": [
       "True"
      ]
     },
     "execution_count": 20,
     "metadata": {},
     "output_type": "execute_result"
    }
   ],
   "source": [
    "check_even(20)"
   ]
  },
  {
   "cell_type": "code",
   "execution_count": null,
   "id": "f12337af-80f2-4673-8bd7-d7b996f8fe20",
   "metadata": {},
   "outputs": [],
   "source": []
  }
 ],
 "metadata": {
  "kernelspec": {
   "display_name": "Python 3 (ipykernel)",
   "language": "python",
   "name": "python3"
  },
  "language_info": {
   "codemirror_mode": {
    "name": "ipython",
    "version": 3
   },
   "file_extension": ".py",
   "mimetype": "text/x-python",
   "name": "python",
   "nbconvert_exporter": "python",
   "pygments_lexer": "ipython3",
   "version": "3.9.6"
  }
 },
 "nbformat": 4,
 "nbformat_minor": 5
}
